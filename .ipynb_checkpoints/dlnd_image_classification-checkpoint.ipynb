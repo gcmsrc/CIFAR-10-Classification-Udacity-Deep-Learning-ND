{
 "cells": [
  {
   "cell_type": "markdown",
   "metadata": {
    "collapsed": true,
    "deletable": true,
    "editable": true
   },
   "source": [
    "# Image Classification\n",
    "In this project, you'll classify images from the [CIFAR-10 dataset](https://www.cs.toronto.edu/~kriz/cifar.html).  The dataset consists of airplanes, dogs, cats, and other objects. You'll preprocess the images, then train a convolutional neural network on all the samples. The images need to be normalized and the labels need to be one-hot encoded.  You'll get to apply what you learned and build a convolutional, max pooling, dropout, and fully connected layers.  At the end, you'll get to see your neural network's predictions on the sample images.\n",
    "## Get the Data\n",
    "Run the following cell to download the [CIFAR-10 dataset for python](https://www.cs.toronto.edu/~kriz/cifar-10-python.tar.gz)."
   ]
  },
  {
   "cell_type": "code",
   "execution_count": 4,
   "metadata": {
    "collapsed": false,
    "deletable": true,
    "editable": true
   },
   "outputs": [
    {
     "name": "stderr",
     "output_type": "stream",
     "text": [
      "CIFAR-10 Dataset: 171MB [00:28, 6.08MB/s]                              \n"
     ]
    },
    {
     "name": "stdout",
     "output_type": "stream",
     "text": [
      "All files found!\n"
     ]
    }
   ],
   "source": [
    "\"\"\"\n",
    "DON'T MODIFY ANYTHING IN THIS CELL THAT IS BELOW THIS LINE\n",
    "\"\"\"\n",
    "from urllib.request import urlretrieve\n",
    "from os.path import isfile, isdir\n",
    "from tqdm import tqdm\n",
    "import problem_unittests as tests\n",
    "import tarfile\n",
    "\n",
    "cifar10_dataset_folder_path = 'cifar-10-batches-py'\n",
    "\n",
    "# Use Floyd's cifar-10 dataset if present\n",
    "floyd_cifar10_location = '/input/cifar-10/python.tar.gz'\n",
    "if isfile(floyd_cifar10_location):\n",
    "    tar_gz_path = floyd_cifar10_location\n",
    "else:\n",
    "    tar_gz_path = 'cifar-10-python.tar.gz'\n",
    "\n",
    "class DLProgress(tqdm):\n",
    "    last_block = 0\n",
    "\n",
    "    def hook(self, block_num=1, block_size=1, total_size=None):\n",
    "        self.total = total_size\n",
    "        self.update((block_num - self.last_block) * block_size)\n",
    "        self.last_block = block_num\n",
    "\n",
    "if not isfile(tar_gz_path):\n",
    "    with DLProgress(unit='B', unit_scale=True, miniters=1, desc='CIFAR-10 Dataset') as pbar:\n",
    "        urlretrieve(\n",
    "            'https://www.cs.toronto.edu/~kriz/cifar-10-python.tar.gz',\n",
    "            tar_gz_path,\n",
    "            pbar.hook)\n",
    "\n",
    "if not isdir(cifar10_dataset_folder_path):\n",
    "    with tarfile.open(tar_gz_path) as tar:\n",
    "        tar.extractall()\n",
    "        tar.close()\n",
    "\n",
    "\n",
    "tests.test_folder_path(cifar10_dataset_folder_path)"
   ]
  },
  {
   "cell_type": "markdown",
   "metadata": {
    "deletable": true,
    "editable": true
   },
   "source": [
    "## Explore the Data\n",
    "The dataset is broken into batches to prevent your machine from running out of memory.  The CIFAR-10 dataset consists of 5 batches, named `data_batch_1`, `data_batch_2`, etc.. Each batch contains the labels and images that are one of the following:\n",
    "* airplane\n",
    "* automobile\n",
    "* bird\n",
    "* cat\n",
    "* deer\n",
    "* dog\n",
    "* frog\n",
    "* horse\n",
    "* ship\n",
    "* truck\n",
    "\n",
    "Understanding a dataset is part of making predictions on the data.  Play around with the code cell below by changing the `batch_id` and `sample_id`. The `batch_id` is the id for a batch (1-5). The `sample_id` is the id for a image and label pair in the batch.\n",
    "\n",
    "Ask yourself \"What are all possible labels?\", \"What is the range of values for the image data?\", \"Are the labels in order or random?\".  Answers to questions like these will help you preprocess the data and end up with better predictions."
   ]
  },
  {
   "cell_type": "code",
   "execution_count": 6,
   "metadata": {
    "collapsed": false,
    "deletable": true,
    "editable": true
   },
   "outputs": [
    {
     "name": "stdout",
     "output_type": "stream",
     "text": [
      "\n",
      "Stats of batch 5:\n",
      "Samples: 10000\n",
      "Label Counts: {0: 1014, 1: 1014, 2: 952, 3: 1016, 4: 997, 5: 1025, 6: 980, 7: 977, 8: 1003, 9: 1022}\n",
      "First 20 Labels: [1, 8, 5, 1, 5, 7, 4, 3, 8, 2, 7, 2, 0, 1, 5, 9, 6, 2, 0, 8]\n",
      "\n",
      "Example of Image 1:\n",
      "Image - Min Value: 1 Max Value: 244\n",
      "Image - Shape: (32, 32, 3)\n",
      "Label - Label Id: 8 Name: ship\n"
     ]
    },
    {
     "data": {
      "image/png": "[encoded data removed]",
      "text/plain": [
       "<matplotlib.figure.Figure at 0x7f6e46d130f0>"
      ]
     },
     "metadata": {
      "image/png": {
       "height": 250,
       "width": 253
      }
     },
     "output_type": "display_data"
    }
   ],
   "source": [
    "%matplotlib inline\n",
    "%config InlineBackend.figure_format = 'retina'\n",
    "\n",
    "import helper\n",
    "import numpy as np\n",
    "\n",
    "# Explore the dataset\n",
    "batch_id = 5\n",
    "sample_id = 1\n",
    "helper.display_stats(cifar10_dataset_folder_path, batch_id, sample_id)"
   ]
  },
  {
   "cell_type": "markdown",
   "metadata": {
    "deletable": true,
    "editable": true
   },
   "source": [
    "---\n",
    "\n",
    ">It seems that labels are between 0 and 9, i.e. 10 labels (as expected). I found this out by changing the `batch_id` a couple of times. Also, the first 20 labels for all the batches do not seem to follow a specific order (i.e. all 0s, then all 1s, etc.), but I would rather say they are randomly ordered.\n",
    "\n",
    "---"
   ]
  },
  {
   "cell_type": "markdown",
   "metadata": {
    "deletable": true,
    "editable": true
   },
   "source": [
    "## Implement Preprocess Functions\n",
    "### Normalize\n",
    "In the cell below, implement the `normalize` function to take in image data, `x`, and return it as a normalized Numpy array. The values should be in the range of 0 to 1, inclusive.  The return object should be the same shape as `x`."
   ]
  },
  {
   "cell_type": "markdown",
   "metadata": {
    "deletable": true,
    "editable": true
   },
   "source": [
    "---\n",
    "\n",
    ">Values are represent RGB colors, i.e. the range of these values is between 0 and 255. I am implementing a Min-Max Scaler to squeeze the RGB values between 0 and 1.\n",
    "\n",
    "---"
   ]
  },
  {
   "cell_type": "code",
   "execution_count": 7,
   "metadata": {
    "collapsed": false,
    "deletable": true,
    "editable": true
   },
   "outputs": [
    {
     "name": "stdout",
     "output_type": "stream",
     "text": [
      "Tests Passed\n"
     ]
    }
   ],
   "source": [
    "def normalize(x):\n",
    "    \"\"\"\n",
    "    Normalize a list of sample image data in the range of 0 to 1\n",
    "    : x: List of image data.  The image shape is (32, 32, 3)\n",
    "    : return: Numpy array of normalize data\n",
    "    \"\"\"\n",
    "    # TODO: Implement Function\n",
    "    \n",
    "    # Define min and max of RGB scales\n",
    "    min_x = 0\n",
    "    max_x = 255\n",
    "    \n",
    "    # Define new min and max\n",
    "    min_norm = 0\n",
    "    max_norm = 1\n",
    "    \n",
    "    # Return min-max scaled value\n",
    "    return min_norm + (x - min_x) * (max_norm - min_norm) / (max_x - min_x)\n",
    "\n",
    "\n",
    "\"\"\"\n",
    "DON'T MODIFY ANYTHING IN THIS CELL THAT IS BELOW THIS LINE\n",
    "\"\"\"\n",
    "tests.test_normalize(normalize)"
   ]
  },
  {
   "cell_type": "markdown",
   "metadata": {
    "deletable": true,
    "editable": true
   },
   "source": [
    "### One-hot encode\n",
    "Just like the previous code cell, you'll be implementing a function for preprocessing.  This time, you'll implement the `one_hot_encode` function. The input, `x`, are a list of labels.  Implement the function to return the list of labels as One-Hot encoded Numpy array.  The possible values for labels are 0 to 9. The one-hot encoding function should return the same encoding for each value between each call to `one_hot_encode`.  Make sure to save the map of encodings outside the function.\n",
    "\n",
    "Hint: Don't reinvent the wheel."
   ]
  },
  {
   "cell_type": "markdown",
   "metadata": {
    "deletable": true,
    "editable": true
   },
   "source": [
    "---\n",
    "\n",
    ">Here I am using `sklearn.preprocessing.LabelBinarizer`.\n",
    "\n",
    "---"
   ]
  },
  {
   "cell_type": "code",
   "execution_count": 10,
   "metadata": {
    "collapsed": false,
    "deletable": true,
    "editable": true
   },
   "outputs": [
    {
     "data": {
      "text/plain": [
       "LabelBinarizer(neg_label=0, pos_label=1, sparse_output=False)"
      ]
     },
     "execution_count": 10,
     "metadata": {},
     "output_type": "execute_result"
    }
   ],
   "source": [
    "from sklearn.preprocessing import LabelBinarizer\n",
    "\n",
    "lb = LabelBinarizer()\n",
    "lb.fit(range(0,10))"
   ]
  },
  {
   "cell_type": "code",
   "execution_count": 11,
   "metadata": {
    "collapsed": false,
    "deletable": true,
    "editable": true
   },
   "outputs": [
    {
     "name": "stdout",
     "output_type": "stream",
     "text": [
      "Tests Passed\n"
     ]
    }
   ],
   "source": [
    "def one_hot_encode(x):\n",
    "    \"\"\"\n",
    "    One hot encode a list of sample labels. Return a one-hot encoded vector for each label.\n",
    "    : x: List of sample Labels\n",
    "    : return: Numpy array of one-hot encoded labels\n",
    "    \"\"\"\n",
    "    # TODO: Implement Function\n",
    "    # Define a standard LabelBinarizer, on 10 classes.\n",
    "    \n",
    "    return lb.transform(x)\n",
    "\n",
    "\n",
    "\"\"\"\n",
    "DON'T MODIFY ANYTHING IN THIS CELL THAT IS BELOW THIS LINE\n",
    "\"\"\"\n",
    "tests.test_one_hot_encode(one_hot_encode)"
   ]
  },
  {
   "cell_type": "markdown",
   "metadata": {
    "deletable": true,
    "editable": true
   },
   "source": [
    "### Randomize Data\n",
    "As you saw from exploring the data above, the order of the samples are randomized.  It doesn't hurt to randomize it again, but you don't need to for this dataset."
   ]
  },
  {
   "cell_type": "markdown",
   "metadata": {
    "deletable": true,
    "editable": true
   },
   "source": [
    "## Preprocess all the data and save it\n",
    "Running the code cell below will preprocess all the CIFAR-10 data and save it to file. The code below also uses 10% of the training data for validation."
   ]
  },
  {
   "cell_type": "code",
   "execution_count": 9,
   "metadata": {
    "collapsed": false,
    "deletable": true,
    "editable": true
   },
   "outputs": [],
   "source": [
    "\"\"\"\n",
    "DON'T MODIFY ANYTHING IN THIS CELL\n",
    "\"\"\"\n",
    "# Preprocess Training, Validation, and Testing Data\n",
    "helper.preprocess_and_save_data(cifar10_dataset_folder_path, normalize, one_hot_encode)"
   ]
  },
  {
   "cell_type": "markdown",
   "metadata": {
    "deletable": true,
    "editable": true
   },
   "source": [
    "# Check Point\n",
    "This is your first checkpoint.  If you ever decide to come back to this notebook or have to restart the notebook, you can start from here.  The preprocessed data has been saved to disk."
   ]
  },
  {
   "cell_type": "code",
   "execution_count": 10,
   "metadata": {
    "collapsed": false,
    "deletable": true,
    "editable": true
   },
   "outputs": [],
   "source": [
    "\"\"\"\n",
    "DON'T MODIFY ANYTHING IN THIS CELL\n",
    "\"\"\"\n",
    "import pickle\n",
    "import problem_unittests as tests\n",
    "import helper\n",
    "\n",
    "# Load the Preprocessed Validation data\n",
    "valid_features, valid_labels = pickle.load(open('preprocess_validation.p', mode='rb'))"
   ]
  },
  {
   "cell_type": "markdown",
   "metadata": {
    "deletable": true,
    "editable": true
   },
   "source": [
    "## Build the network\n",
    "For the neural network, you'll build each layer into a function.  Most of the code you've seen has been outside of functions. To test your code more thoroughly, we require that you put each layer in a function.  This allows us to give you better feedback and test for simple mistakes using our unittests before you submit your project.\n",
    "\n",
    ">**Note:** If you're finding it hard to dedicate enough time for this course each week, we've provided a small shortcut to this part of the project. In the next couple of problems, you'll have the option to use classes from the [TensorFlow Layers](https://www.tensorflow.org/api_docs/python/tf/layers) or [TensorFlow Layers (contrib)](https://www.tensorflow.org/api_guides/python/contrib.layers) packages to build each layer, except the layers you build in the \"Convolutional and Max Pooling Layer\" section.  TF Layers is similar to Keras's and TFLearn's abstraction to layers, so it's easy to pickup.\n",
    "\n",
    ">However, if you would like to get the most out of this course, try to solve all the problems _without_ using anything from the TF Layers packages. You **can** still use classes from other packages that happen to have the same name as ones you find in TF Layers! For example, instead of using the TF Layers version of the `conv2d` class, [tf.layers.conv2d](https://www.tensorflow.org/api_docs/python/tf/layers/conv2d), you would want to use the TF Neural Network version of `conv2d`, [tf.nn.conv2d](https://www.tensorflow.org/api_docs/python/tf/nn/conv2d). \n",
    "\n",
    "Let's begin!\n",
    "\n",
    "### Input\n",
    "The neural network needs to read the image data, one-hot encoded labels, and dropout keep probability. Implement the following functions\n",
    "* Implement `neural_net_image_input`\n",
    " * Return a [TF Placeholder](https://www.tensorflow.org/api_docs/python/tf/placeholder)\n",
    " * Set the shape using `image_shape` with batch size set to `None`.\n",
    " * Name the TensorFlow placeholder \"x\" using the TensorFlow `name` parameter in the [TF Placeholder](https://www.tensorflow.org/api_docs/python/tf/placeholder).\n",
    "* Implement `neural_net_label_input`\n",
    " * Return a [TF Placeholder](https://www.tensorflow.org/api_docs/python/tf/placeholder)\n",
    " * Set the shape using `n_classes` with batch size set to `None`.\n",
    " * Name the TensorFlow placeholder \"y\" using the TensorFlow `name` parameter in the [TF Placeholder](https://www.tensorflow.org/api_docs/python/tf/placeholder).\n",
    "* Implement `neural_net_keep_prob_input`\n",
    " * Return a [TF Placeholder](https://www.tensorflow.org/api_docs/python/tf/placeholder) for dropout keep probability.\n",
    " * Name the TensorFlow placeholder \"keep_prob\" using the TensorFlow `name` parameter in the [TF Placeholder](https://www.tensorflow.org/api_docs/python/tf/placeholder).\n",
    "\n",
    "These names will be used at the end of the project to load your saved model.\n",
    "\n",
    "Note: `None` for shapes in TensorFlow allow for a dynamic size."
   ]
  },
  {
   "cell_type": "code",
   "execution_count": 11,
   "metadata": {
    "collapsed": false,
    "deletable": true,
    "editable": true
   },
   "outputs": [
    {
     "name": "stdout",
     "output_type": "stream",
     "text": [
      "Image Input Tests Passed.\n",
      "Label Input Tests Passed.\n",
      "Keep Prob Tests Passed.\n"
     ]
    }
   ],
   "source": [
    "import tensorflow as tf\n",
    "\n",
    "def neural_net_image_input(image_shape):\n",
    "    \"\"\"\n",
    "    Return a Tensor for a batch of image input\n",
    "    : image_shape: Shape of the images\n",
    "    : return: Tensor for image input.\n",
    "    \"\"\"\n",
    "    # TODO: Implement Function\n",
    "    return tf.placeholder(tf.float32, shape=[None, image_shape[0],\n",
    "                                             image_shape[1],\n",
    "                                             image_shape[2]],\n",
    "                          name='x')\n",
    "\n",
    "\n",
    "def neural_net_label_input(n_classes):\n",
    "    \"\"\"\n",
    "    Return a Tensor for a batch of label input\n",
    "    : n_classes: Number of classes\n",
    "    : return: Tensor for label input.\n",
    "    \"\"\"\n",
    "    # TODO: Implement Function\n",
    "    return tf.placeholder(tf.float32, shape=[None, n_classes], name='y')\n",
    "\n",
    "\n",
    "def neural_net_keep_prob_input():\n",
    "    \"\"\"\n",
    "    Return a Tensor for keep probability\n",
    "    : return: Tensor for keep probability.\n",
    "    \"\"\"\n",
    "    # TODO: Implement Function\n",
    "    return tf.placeholder(tf.float32, name='keep_prob')\n",
    "\n",
    "\n",
    "\"\"\"\n",
    "DON'T MODIFY ANYTHING IN THIS CELL THAT IS BELOW THIS LINE\n",
    "\"\"\"\n",
    "tf.reset_default_graph()\n",
    "tests.test_nn_image_inputs(neural_net_image_input)\n",
    "tests.test_nn_label_inputs(neural_net_label_input)\n",
    "tests.test_nn_keep_prob_inputs(neural_net_keep_prob_input)"
   ]
  },
  {
   "cell_type": "markdown",
   "metadata": {
    "deletable": true,
    "editable": true
   },
   "source": [
    "### Convolution and Max Pooling Layer\n",
    "Convolution layers have a lot of success with images. For this code cell, you should implement the function `conv2d_maxpool` to apply convolution then max pooling:\n",
    "* Create the weight and bias using `conv_ksize`, `conv_num_outputs` and the shape of `x_tensor`.\n",
    "* Apply a convolution to `x_tensor` using weight and `conv_strides`.\n",
    " * We recommend you use same padding, but you're welcome to use any padding.\n",
    "* Add bias\n",
    "* Add a nonlinear activation to the convolution.\n",
    "* Apply Max Pooling using `pool_ksize` and `pool_strides`.\n",
    " * We recommend you use same padding, but you're welcome to use any padding.\n",
    "\n",
    "**Note:** You **can't** use [TensorFlow Layers](https://www.tensorflow.org/api_docs/python/tf/layers) or [TensorFlow Layers (contrib)](https://www.tensorflow.org/api_guides/python/contrib.layers) for **this** layer, but you can still use TensorFlow's [Neural Network](https://www.tensorflow.org/api_docs/python/tf/nn) package. You may still use the shortcut option for all the **other** layers."
   ]
  },
  {
   "cell_type": "code",
   "execution_count": 12,
   "metadata": {
    "collapsed": false,
    "deletable": true,
    "editable": true
   },
   "outputs": [
    {
     "name": "stdout",
     "output_type": "stream",
     "text": [
      "Tests Passed\n"
     ]
    }
   ],
   "source": [
    "def conv2d_maxpool(x_tensor, conv_num_outputs, conv_ksize, conv_strides, pool_ksize, pool_strides):\n",
    "    \"\"\"\n",
    "    Apply convolution then max pooling to x_tensor\n",
    "    :param x_tensor: TensorFlow Tensor\n",
    "    :param conv_num_outputs: Number of outputs for the convolutional layer\n",
    "    :param conv_ksize: kernal size 2-D Tuple for the convolutional layer\n",
    "    :param conv_strides: Stride 2-D Tuple for convolution\n",
    "    :param pool_ksize: kernal size 2-D Tuple for pool\n",
    "    :param pool_strides: Stride 2-D Tuple for pool\n",
    "    : return: A tensor that represents convolution and max pooling of x_tensor\n",
    "    \"\"\"\n",
    "    # TODO: Implement Function\n",
    "    \n",
    "    # Define tensor depth\n",
    "    t_depth = x_tensor.get_shape().as_list()[3]\n",
    "    \n",
    "    # Define filter weights\n",
    "    F_W = tf.Variable(tf.truncated_normal((conv_ksize[0],\n",
    "                                           conv_ksize[1],\n",
    "                                           t_depth,\n",
    "                                           conv_num_outputs), stddev=0.05))\n",
    "                                          \n",
    "    # Define biases\n",
    "    F_B = tf.Variable(tf.zeros(conv_num_outputs))\n",
    "    \n",
    "    # Define conv strides\n",
    "    conv_strides = [1, conv_strides[0], conv_strides[1], 1]\n",
    "    \n",
    "    # Define padding\n",
    "    padding = 'SAME'\n",
    "    \n",
    "    # Calculate convolutions\n",
    "    out = tf.nn.conv2d(x_tensor, F_W, strides=conv_strides, padding=padding) + F_B\n",
    "    \n",
    "    # Apply Relu\n",
    "    out = tf.nn.relu(out)\n",
    "    \n",
    "    # Applya max pooling\n",
    "    # pool filter\n",
    "    F_P = [1, pool_ksize[0], pool_ksize[1], 1]\n",
    "    \n",
    "    # pool strides\n",
    "    pool_strides = [1, pool_strides[0], pool_strides[1], 1]\n",
    "    \n",
    "    out = tf.nn.max_pool(out, ksize = F_P, strides=pool_strides, padding=padding)\n",
    "\n",
    "    return out\n",
    "\n",
    "\n",
    "\"\"\"\n",
    "DON'T MODIFY ANYTHING IN THIS CELL THAT IS BELOW THIS LINE\n",
    "\"\"\"\n",
    "tests.test_con_pool(conv2d_maxpool)"
   ]
  },
  {
   "cell_type": "markdown",
   "metadata": {
    "deletable": true,
    "editable": true
   },
   "source": [
    "### Flatten Layer\n",
    "Implement the `flatten` function to change the dimension of `x_tensor` from a 4-D tensor to a 2-D tensor.  The output should be the shape (*Batch Size*, *Flattened Image Size*). Shortcut option: you can use classes from the [TensorFlow Layers](https://www.tensorflow.org/api_docs/python/tf/layers) or [TensorFlow Layers (contrib)](https://www.tensorflow.org/api_guides/python/contrib.layers) packages for this layer. For more of a challenge, only use other TensorFlow packages."
   ]
  },
  {
   "cell_type": "code",
   "execution_count": 13,
   "metadata": {
    "collapsed": false,
    "deletable": true,
    "editable": true
   },
   "outputs": [
    {
     "name": "stdout",
     "output_type": "stream",
     "text": [
      "Tests Passed\n"
     ]
    }
   ],
   "source": [
    "def flatten(x_tensor):\n",
    "    \"\"\"\n",
    "    Flatten x_tensor to (Batch Size, Flattened Image Size)\n",
    "    : x_tensor: A tensor of size (Batch Size, ...), where ... are the image dimensions.\n",
    "    : return: A tensor of size (Batch Size, Flattened Image Size).\n",
    "    \"\"\"\n",
    "    # TODO: Implement Function\n",
    "    flattened_dimensions = x_tensor.get_shape()[1:].num_elements()\n",
    "    \n",
    "    return tf.reshape(x_tensor, [-1, flattened_dimensions])\n",
    "\n",
    "\n",
    "\"\"\"\n",
    "DON'T MODIFY ANYTHING IN THIS CELL THAT IS BELOW THIS LINE\n",
    "\"\"\"\n",
    "tests.test_flatten(flatten)"
   ]
  },
  {
   "cell_type": "markdown",
   "metadata": {
    "deletable": true,
    "editable": true
   },
   "source": [
    "### Fully-Connected Layer\n",
    "Implement the `fully_conn` function to apply a fully connected layer to `x_tensor` with the shape (*Batch Size*, *num_outputs*). Shortcut option: you can use classes from the [TensorFlow Layers](https://www.tensorflow.org/api_docs/python/tf/layers) or [TensorFlow Layers (contrib)](https://www.tensorflow.org/api_guides/python/contrib.layers) packages for this layer. For more of a challenge, only use other TensorFlow packages."
   ]
  },
  {
   "cell_type": "code",
   "execution_count": 14,
   "metadata": {
    "collapsed": false,
    "deletable": true,
    "editable": true
   },
   "outputs": [
    {
     "name": "stdout",
     "output_type": "stream",
     "text": [
      "Tests Passed\n"
     ]
    }
   ],
   "source": [
    "def fully_conn(x_tensor, num_outputs):\n",
    "    \"\"\"\n",
    "    Apply a fully connected layer to x_tensor using weight and bias\n",
    "    : x_tensor: A 2-D tensor where the first dimension is batch size.\n",
    "    : num_outputs: The number of output that the new tensor should be.\n",
    "    : return: A 2-D tensor where the second dimension is num_outputs.\n",
    "    \"\"\"\n",
    "    # TODO: Implement Function\n",
    "    \n",
    "    # Define weights\n",
    "    \n",
    "    input_size = x_tensor.get_shape().as_list()[1]\n",
    "    \n",
    "    # Define weights and biases\n",
    "    weights = tf.Variable(tf.truncated_normal((input_size, num_outputs), stddev=0.05))\n",
    "    biases = tf.Variable(tf.zeros(num_outputs))\n",
    "    \n",
    "    layer = tf.matmul(x_tensor, weights) + biases\n",
    "    \n",
    "    # Add relu\n",
    "    layer = tf.nn.relu(layer)\n",
    "\n",
    "    return layer\n",
    "\n",
    "\"\"\"\n",
    "DON'T MODIFY ANYTHING IN THIS CELL THAT IS BELOW THIS LINE\n",
    "\"\"\"\n",
    "tests.test_fully_conn(fully_conn)"
   ]
  },
  {
   "cell_type": "markdown",
   "metadata": {
    "deletable": true,
    "editable": true
   },
   "source": [
    "### Output Layer\n",
    "Implement the `output` function to apply a fully connected layer to `x_tensor` with the shape (*Batch Size*, *num_outputs*). Shortcut option: you can use classes from the [TensorFlow Layers](https://www.tensorflow.org/api_docs/python/tf/layers) or [TensorFlow Layers (contrib)](https://www.tensorflow.org/api_guides/python/contrib.layers) packages for this layer. For more of a challenge, only use other TensorFlow packages.\n",
    "\n",
    "**Note:** Activation, softmax, or cross entropy should **not** be applied to this."
   ]
  },
  {
   "cell_type": "code",
   "execution_count": 15,
   "metadata": {
    "collapsed": false,
    "deletable": true,
    "editable": true
   },
   "outputs": [
    {
     "name": "stdout",
     "output_type": "stream",
     "text": [
      "Tests Passed\n"
     ]
    }
   ],
   "source": [
    "def output(x_tensor, num_outputs):\n",
    "    \"\"\"\n",
    "    Apply a output layer to x_tensor using weight and bias\n",
    "    : x_tensor: A 2-D tensor where the first dimension is batch size.\n",
    "    : num_outputs: The number of output that the new tensor should be.\n",
    "    : return: A 2-D tensor where the second dimension is num_outputs.\n",
    "    \"\"\"\n",
    "    # TODO: Implement Function\n",
    "    \n",
    "    # input dimension\n",
    "    input_size = x_tensor.get_shape().as_list()[1]\n",
    "    \n",
    "    # Define weights and biases\n",
    "    weights = tf.Variable(tf.truncated_normal((input_size, num_outputs), stddev=0.05))\n",
    "    biases = tf.Variable(tf.zeros(num_outputs))\n",
    "    \n",
    "    output = tf.matmul(x_tensor, weights) + biases\n",
    "    \n",
    "    return output\n",
    "\n",
    "\n",
    "\"\"\"\n",
    "DON'T MODIFY ANYTHING IN THIS CELL THAT IS BELOW THIS LINE\n",
    "\"\"\"\n",
    "tests.test_output(output)"
   ]
  },
  {
   "cell_type": "markdown",
   "metadata": {
    "deletable": true,
    "editable": true
   },
   "source": [
    "### Create Convolutional Model\n",
    "Implement the function `conv_net` to create a convolutional neural network model. The function takes in a batch of images, `x`, and outputs logits.  Use the layers you created above to create this model:\n",
    "\n",
    "* Apply 1, 2, or 3 Convolution and Max Pool layers\n",
    "* Apply a Flatten Layer\n",
    "* Apply 1, 2, or 3 Fully Connected Layers\n",
    "* Apply an Output Layer\n",
    "* Return the output\n",
    "* Apply [TensorFlow's Dropout](https://www.tensorflow.org/api_docs/python/tf/nn/dropout) to one or more layers in the model using `keep_prob`. "
   ]
  },
  {
   "cell_type": "code",
   "execution_count": 127,
   "metadata": {
    "collapsed": false,
    "deletable": true,
    "editable": true
   },
   "outputs": [
    {
     "name": "stdout",
     "output_type": "stream",
     "text": [
      "Neural Network Built!\n"
     ]
    }
   ],
   "source": [
    "def conv_net(x, keep_prob):\n",
    "    \"\"\"\n",
    "    Create a convolutional neural network model\n",
    "    : x: Placeholder tensor that holds image data.\n",
    "    : keep_prob: Placeholder tensor that hold dropout keep probability.\n",
    "    : return: Tensor that represents logits\n",
    "    \"\"\"\n",
    "    # TODO: Apply 1, 2, or 3 Convolution and Max Pool layers\n",
    "    #    Play around with different number of outputs, kernel size and stride\n",
    "    # Function Definition from Above:\n",
    "    #    conv2d_maxpool(x_tensor, conv_num_outputs, conv_ksize, conv_strides, pool_ksize, pool_strides)\n",
    "    \n",
    "    layer = conv2d_maxpool(x, 64, (7,7), (4,4), (2,2), (2,2))\n",
    "    layer = tf.nn.dropout(layer, keep_prob)\n",
    "    \n",
    "    layer = conv2d_maxpool(x, 128, (5,5), (3,3), (2,2), (2,2))\n",
    "    layer = tf.nn.dropout(layer, keep_prob)\n",
    "    \n",
    "\n",
    "    # TODO: Apply a Flatten Layer\n",
    "    # Function Definition from Above:\n",
    "    #   flatten(x_tensor)\n",
    "    layer = flatten(layer)\n",
    "\n",
    "    # TODO: Apply 1, 2, or 3 Fully Connected Layers\n",
    "    #    Play around with different number of outputs\n",
    "    # Function Definition from Above:\n",
    "    #   fully_conn(x_tensor, num_outputs)\n",
    "    layer = fully_conn(layer, 128)\n",
    "\n",
    "\n",
    "    \n",
    "    \n",
    "    # TODO: Apply an Output Layer\n",
    "    #    Set this to the number of classes\n",
    "    # Function Definition from Above:\n",
    "    #   output(x_tensor, num_outputs)\n",
    "    logits = output(layer, 10)\n",
    "    \n",
    "    # TODO: return output\n",
    "    return logits\n",
    "\n",
    "\n",
    "\"\"\"\n",
    "DON'T MODIFY ANYTHING IN THIS CELL THAT IS BELOW THIS LINE\n",
    "\"\"\"\n",
    "\n",
    "##############################\n",
    "## Build the Neural Network ##\n",
    "##############################\n",
    "\n",
    "# Remove previous weights, bias, inputs, etc..\n",
    "tf.reset_default_graph()\n",
    "\n",
    "# Inputs\n",
    "x = neural_net_image_input((32, 32, 3))\n",
    "y = neural_net_label_input(10)\n",
    "keep_prob = neural_net_keep_prob_input()\n",
    "\n",
    "# Model\n",
    "logits = conv_net(x, keep_prob)\n",
    "\n",
    "# Name logits Tensor, so that is can be loaded from disk after training\n",
    "logits = tf.identity(logits, name='logits')\n",
    "\n",
    "# Loss and Optimizer\n",
    "cost = tf.reduce_mean(tf.nn.softmax_cross_entropy_with_logits(logits=logits, labels=y))\n",
    "optimizer = tf.train.AdamOptimizer().minimize(cost)\n",
    "\n",
    "# Accuracy\n",
    "correct_pred = tf.equal(tf.argmax(logits, 1), tf.argmax(y, 1))\n",
    "accuracy = tf.reduce_mean(tf.cast(correct_pred, tf.float32), name='accuracy')\n",
    "\n",
    "tests.test_conv_net(conv_net)"
   ]
  },
  {
   "cell_type": "markdown",
   "metadata": {
    "deletable": true,
    "editable": true
   },
   "source": [
    "## Train the Neural Network\n",
    "### Single Optimization\n",
    "Implement the function `train_neural_network` to do a single optimization.  The optimization should use `optimizer` to optimize in `session` with a `feed_dict` of the following:\n",
    "* `x` for image input\n",
    "* `y` for labels\n",
    "* `keep_prob` for keep probability for dropout\n",
    "\n",
    "This function will be called for each batch, so `tf.global_variables_initializer()` has already been called.\n",
    "\n",
    "Note: Nothing needs to be returned. This function is only optimizing the neural network."
   ]
  },
  {
   "cell_type": "code",
   "execution_count": 128,
   "metadata": {
    "collapsed": false,
    "deletable": true,
    "editable": true
   },
   "outputs": [
    {
     "name": "stdout",
     "output_type": "stream",
     "text": [
      "Tests Passed\n"
     ]
    }
   ],
   "source": [
    "def train_neural_network(session, optimizer, keep_probability, feature_batch, label_batch):\n",
    "    \"\"\"\n",
    "    Optimize the session on a batch of images and labels\n",
    "    : session: Current TensorFlow session\n",
    "    : optimizer: TensorFlow optimizer function\n",
    "    : keep_probability: keep probability\n",
    "    : feature_batch: Batch of Numpy image data\n",
    "    : label_batch: Batch of Numpy label data\n",
    "    \"\"\"\n",
    "    # TODO: Implement Function\n",
    "    session.run(optimizer, feed_dict = {x : feature_batch, \n",
    "                                        y : label_batch, \n",
    "                                        keep_prob : keep_probability})\n",
    "\n",
    "\n",
    "\"\"\"\n",
    "DON'T MODIFY ANYTHING IN THIS CELL THAT IS BELOW THIS LINE\n",
    "\"\"\"\n",
    "tests.test_train_nn(train_neural_network)"
   ]
  },
  {
   "cell_type": "markdown",
   "metadata": {
    "deletable": true,
    "editable": true
   },
   "source": [
    "### Show Stats\n",
    "Implement the function `print_stats` to print loss and validation accuracy.  Use the global variables `valid_features` and `valid_labels` to calculate validation accuracy.  Use a keep probability of `1.0` to calculate the loss and validation accuracy."
   ]
  },
  {
   "cell_type": "code",
   "execution_count": 129,
   "metadata": {
    "collapsed": false,
    "deletable": true,
    "editable": true
   },
   "outputs": [],
   "source": [
    "def print_stats(session, feature_batch, label_batch, cost, accuracy):\n",
    "    \"\"\"\n",
    "    Print information about loss and validation accuracy\n",
    "    : session: Current TensorFlow session\n",
    "    : feature_batch: Batch of Numpy image data\n",
    "    : label_batch: Batch of Numpy label data\n",
    "    : cost: TensorFlow cost function\n",
    "    : accuracy: TensorFlow accuracy function\n",
    "    \"\"\"\n",
    "    # TODO: Implement Function\n",
    "    loss = session.run(cost, feed_dict = {x : feature_batch, \n",
    "                                          y : label_batch, \n",
    "                                          keep_prob : 1.0})\n",
    "    \n",
    "    acc = session.run(accuracy, feed_dict = {x : valid_features, \n",
    "                                             y : valid_labels, \n",
    "                                             keep_prob : 1.0})\n",
    "    \n",
    "    print('Loss is {:06.4f} - Accuracy is {:.4f}'.format(loss, acc))"
   ]
  },
  {
   "cell_type": "markdown",
   "metadata": {
    "deletable": true,
    "editable": true
   },
   "source": [
    "### Hyperparameters\n",
    "Tune the following parameters:\n",
    "* Set `epochs` to the number of iterations until the network stops learning or start overfitting\n",
    "* Set `batch_size` to the highest number that your machine has memory for.  Most people set them to common sizes of memory:\n",
    " * 64\n",
    " * 128\n",
    " * 256\n",
    " * ...\n",
    "* Set `keep_probability` to the probability of keeping a node using dropout"
   ]
  },
  {
   "cell_type": "code",
   "execution_count": 130,
   "metadata": {
    "collapsed": true,
    "deletable": true,
    "editable": true
   },
   "outputs": [],
   "source": [
    "# TODO: Tune Parameters\n",
    "epochs = 30\n",
    "batch_size = 256\n",
    "keep_probability = 0.5"
   ]
  },
  {
   "cell_type": "markdown",
   "metadata": {
    "deletable": true,
    "editable": true
   },
   "source": [
    "### Train on a Single CIFAR-10 Batch\n",
    "Instead of training the neural network on all the CIFAR-10 batches of data, let's use a single batch. This should save time while you iterate on the model to get a better accuracy.  Once the final validation accuracy is 50% or greater, run the model on all the data in the next section."
   ]
  },
  {
   "cell_type": "code",
   "execution_count": 131,
   "metadata": {
    "collapsed": false,
    "deletable": true,
    "editable": true
   },
   "outputs": [
    {
     "name": "stdout",
     "output_type": "stream",
     "text": [
      "Checking the Training on a Single Batch...\n",
      "Epoch  1, CIFAR-10 Batch 1:  Loss is 2.1133 - Accuracy is 0.2940\n",
      "Epoch  2, CIFAR-10 Batch 1:  Loss is 1.9105 - Accuracy is 0.4090\n",
      "Epoch  3, CIFAR-10 Batch 1:  Loss is 1.7399 - Accuracy is 0.4454\n",
      "Epoch  4, CIFAR-10 Batch 1:  Loss is 1.5736 - Accuracy is 0.4712\n",
      "Epoch  5, CIFAR-10 Batch 1:  Loss is 1.4147 - Accuracy is 0.4728\n",
      "Epoch  6, CIFAR-10 Batch 1:  Loss is 1.3171 - Accuracy is 0.4938\n",
      "Epoch  7, CIFAR-10 Batch 1:  Loss is 1.2097 - Accuracy is 0.5094\n",
      "Epoch  8, CIFAR-10 Batch 1:  Loss is 1.0994 - Accuracy is 0.5102\n",
      "Epoch  9, CIFAR-10 Batch 1:  Loss is 1.0290 - Accuracy is 0.5190\n",
      "Epoch 10, CIFAR-10 Batch 1:  Loss is 0.9525 - Accuracy is 0.5266\n",
      "Epoch 11, CIFAR-10 Batch 1:  Loss is 0.9068 - Accuracy is 0.5254\n",
      "Epoch 12, CIFAR-10 Batch 1:  Loss is 0.8222 - Accuracy is 0.5294\n",
      "Epoch 13, CIFAR-10 Batch 1:  Loss is 0.7930 - Accuracy is 0.5378\n",
      "Epoch 14, CIFAR-10 Batch 1:  Loss is 0.7247 - Accuracy is 0.5436\n",
      "Epoch 15, CIFAR-10 Batch 1:  Loss is 0.6753 - Accuracy is 0.5516\n",
      "Epoch 16, CIFAR-10 Batch 1:  Loss is 0.6519 - Accuracy is 0.5482\n",
      "Epoch 17, CIFAR-10 Batch 1:  Loss is 0.6115 - Accuracy is 0.5538\n",
      "Epoch 18, CIFAR-10 Batch 1:  Loss is 0.5808 - Accuracy is 0.5572\n",
      "Epoch 19, CIFAR-10 Batch 1:  Loss is 0.5590 - Accuracy is 0.5514\n",
      "Epoch 20, CIFAR-10 Batch 1:  Loss is 0.5190 - Accuracy is 0.5660\n",
      "Epoch 21, CIFAR-10 Batch 1:  Loss is 0.4783 - Accuracy is 0.5656\n",
      "Epoch 22, CIFAR-10 Batch 1:  Loss is 0.4412 - Accuracy is 0.5702\n",
      "Epoch 23, CIFAR-10 Batch 1:  Loss is 0.4117 - Accuracy is 0.5750\n",
      "Epoch 24, CIFAR-10 Batch 1:  Loss is 0.3761 - Accuracy is 0.5772\n",
      "Epoch 25, CIFAR-10 Batch 1:  Loss is 0.3438 - Accuracy is 0.5762\n",
      "Epoch 26, CIFAR-10 Batch 1:  Loss is 0.3218 - Accuracy is 0.5822\n",
      "Epoch 27, CIFAR-10 Batch 1:  Loss is 0.3266 - Accuracy is 0.5762\n",
      "Epoch 28, CIFAR-10 Batch 1:  Loss is 0.2928 - Accuracy is 0.5848\n",
      "Epoch 29, CIFAR-10 Batch 1:  Loss is 0.2774 - Accuracy is 0.5856\n",
      "Epoch 30, CIFAR-10 Batch 1:  Loss is 0.2579 - Accuracy is 0.5856\n"
     ]
    }
   ],
   "source": [
    "\"\"\"\n",
    "DON'T MODIFY ANYTHING IN THIS CELL\n",
    "\"\"\"\n",
    "print('Checking the Training on a Single Batch...')\n",
    "with tf.Session() as sess:\n",
    "    # Initializing the variables\n",
    "    sess.run(tf.global_variables_initializer())\n",
    "    \n",
    "    # Training cycle\n",
    "    for epoch in range(epochs):\n",
    "        batch_i = 1\n",
    "        for batch_features, batch_labels in helper.load_preprocess_training_batch(batch_i, batch_size):\n",
    "            train_neural_network(sess, optimizer, keep_probability, batch_features, batch_labels)\n",
    "        print('Epoch {:>2}, CIFAR-10 Batch {}:  '.format(epoch + 1, batch_i), end='')\n",
    "        print_stats(sess, batch_features, batch_labels, cost, accuracy)"
   ]
  },
  {
   "cell_type": "markdown",
   "metadata": {
    "deletable": true,
    "editable": true
   },
   "source": [
    "### Fully Train the Model\n",
    "Now that you got a good accuracy with a single CIFAR-10 batch, try it with all five batches."
   ]
  },
  {
   "cell_type": "code",
   "execution_count": 132,
   "metadata": {
    "collapsed": false,
    "deletable": true,
    "editable": true
   },
   "outputs": [
    {
     "name": "stdout",
     "output_type": "stream",
     "text": [
      "Training...\n",
      "Epoch  1, CIFAR-10 Batch 1:  Loss is 2.1195 - Accuracy is 0.3172\n",
      "Epoch  1, CIFAR-10 Batch 2:  Loss is 1.7470 - Accuracy is 0.3854\n",
      "Epoch  1, CIFAR-10 Batch 3:  Loss is 1.4725 - Accuracy is 0.4326\n",
      "Epoch  1, CIFAR-10 Batch 4:  Loss is 1.5371 - Accuracy is 0.4652\n",
      "Epoch  1, CIFAR-10 Batch 5:  Loss is 1.5030 - Accuracy is 0.4786\n",
      "Epoch  2, CIFAR-10 Batch 1:  Loss is 1.6406 - Accuracy is 0.4934\n",
      "Epoch  2, CIFAR-10 Batch 2:  Loss is 1.3383 - Accuracy is 0.5104\n",
      "Epoch  2, CIFAR-10 Batch 3:  Loss is 1.0890 - Accuracy is 0.4994\n",
      "Epoch  2, CIFAR-10 Batch 4:  Loss is 1.3040 - Accuracy is 0.5158\n",
      "Epoch  2, CIFAR-10 Batch 5:  Loss is 1.2624 - Accuracy is 0.5314\n",
      "Epoch  3, CIFAR-10 Batch 1:  Loss is 1.3677 - Accuracy is 0.5316\n",
      "Epoch  3, CIFAR-10 Batch 2:  Loss is 1.1334 - Accuracy is 0.5248\n",
      "Epoch  3, CIFAR-10 Batch 3:  Loss is 0.9475 - Accuracy is 0.5370\n",
      "Epoch  3, CIFAR-10 Batch 4:  Loss is 1.1590 - Accuracy is 0.5464\n",
      "Epoch  3, CIFAR-10 Batch 5:  Loss is 1.1071 - Accuracy is 0.5562\n",
      "Epoch  4, CIFAR-10 Batch 1:  Loss is 1.2146 - Accuracy is 0.5568\n",
      "Epoch  4, CIFAR-10 Batch 2:  Loss is 1.0239 - Accuracy is 0.5488\n",
      "Epoch  4, CIFAR-10 Batch 3:  Loss is 0.8504 - Accuracy is 0.5626\n",
      "Epoch  4, CIFAR-10 Batch 4:  Loss is 1.0338 - Accuracy is 0.5648\n",
      "Epoch  4, CIFAR-10 Batch 5:  Loss is 0.9900 - Accuracy is 0.5752\n",
      "Epoch  5, CIFAR-10 Batch 1:  Loss is 1.1329 - Accuracy is 0.5700\n",
      "Epoch  5, CIFAR-10 Batch 2:  Loss is 0.9430 - Accuracy is 0.5806\n",
      "Epoch  5, CIFAR-10 Batch 3:  Loss is 0.7851 - Accuracy is 0.5800\n",
      "Epoch  5, CIFAR-10 Batch 4:  Loss is 0.9553 - Accuracy is 0.5850\n",
      "Epoch  5, CIFAR-10 Batch 5:  Loss is 0.8910 - Accuracy is 0.5878\n",
      "Epoch  6, CIFAR-10 Batch 1:  Loss is 1.0245 - Accuracy is 0.5840\n",
      "Epoch  6, CIFAR-10 Batch 2:  Loss is 0.8762 - Accuracy is 0.5916\n",
      "Epoch  6, CIFAR-10 Batch 3:  Loss is 0.6890 - Accuracy is 0.5872\n",
      "Epoch  6, CIFAR-10 Batch 4:  Loss is 0.8648 - Accuracy is 0.5956\n",
      "Epoch  6, CIFAR-10 Batch 5:  Loss is 0.7966 - Accuracy is 0.5940\n",
      "Epoch  7, CIFAR-10 Batch 1:  Loss is 0.9428 - Accuracy is 0.5896\n",
      "Epoch  7, CIFAR-10 Batch 2:  Loss is 0.8281 - Accuracy is 0.6018\n",
      "Epoch  7, CIFAR-10 Batch 3:  Loss is 0.6518 - Accuracy is 0.6000\n",
      "Epoch  7, CIFAR-10 Batch 4:  Loss is 0.8195 - Accuracy is 0.6016\n",
      "Epoch  7, CIFAR-10 Batch 5:  Loss is 0.7617 - Accuracy is 0.6080\n",
      "Epoch  8, CIFAR-10 Batch 1:  Loss is 0.8418 - Accuracy is 0.6074\n",
      "Epoch  8, CIFAR-10 Batch 2:  Loss is 0.7756 - Accuracy is 0.6156\n",
      "Epoch  8, CIFAR-10 Batch 3:  Loss is 0.6075 - Accuracy is 0.6082\n",
      "Epoch  8, CIFAR-10 Batch 4:  Loss is 0.7386 - Accuracy is 0.6134\n",
      "Epoch  8, CIFAR-10 Batch 5:  Loss is 0.6622 - Accuracy is 0.6196\n",
      "Epoch  9, CIFAR-10 Batch 1:  Loss is 0.7757 - Accuracy is 0.6092\n",
      "Epoch  9, CIFAR-10 Batch 2:  Loss is 0.7077 - Accuracy is 0.6196\n",
      "Epoch  9, CIFAR-10 Batch 3:  Loss is 0.5375 - Accuracy is 0.6194\n",
      "Epoch  9, CIFAR-10 Batch 4:  Loss is 0.6633 - Accuracy is 0.6220\n",
      "Epoch  9, CIFAR-10 Batch 5:  Loss is 0.6228 - Accuracy is 0.6248\n",
      "Epoch 10, CIFAR-10 Batch 1:  Loss is 0.7550 - Accuracy is 0.6198\n",
      "Epoch 10, CIFAR-10 Batch 2:  Loss is 0.6529 - Accuracy is 0.6246\n",
      "Epoch 10, CIFAR-10 Batch 3:  Loss is 0.5148 - Accuracy is 0.6178\n",
      "Epoch 10, CIFAR-10 Batch 4:  Loss is 0.6036 - Accuracy is 0.6254\n",
      "Epoch 10, CIFAR-10 Batch 5:  Loss is 0.5979 - Accuracy is 0.6318\n",
      "Epoch 11, CIFAR-10 Batch 1:  Loss is 0.6976 - Accuracy is 0.6328\n",
      "Epoch 11, CIFAR-10 Batch 2:  Loss is 0.6052 - Accuracy is 0.6294\n",
      "Epoch 11, CIFAR-10 Batch 3:  Loss is 0.4549 - Accuracy is 0.6244\n",
      "Epoch 11, CIFAR-10 Batch 4:  Loss is 0.5272 - Accuracy is 0.6354\n",
      "Epoch 11, CIFAR-10 Batch 5:  Loss is 0.5398 - Accuracy is 0.6392\n",
      "Epoch 12, CIFAR-10 Batch 1:  Loss is 0.6233 - Accuracy is 0.6416\n",
      "Epoch 12, CIFAR-10 Batch 2:  Loss is 0.5531 - Accuracy is 0.6418\n",
      "Epoch 12, CIFAR-10 Batch 3:  Loss is 0.4299 - Accuracy is 0.6332\n",
      "Epoch 12, CIFAR-10 Batch 4:  Loss is 0.5113 - Accuracy is 0.6386\n",
      "Epoch 12, CIFAR-10 Batch 5:  Loss is 0.4866 - Accuracy is 0.6420\n",
      "Epoch 13, CIFAR-10 Batch 1:  Loss is 0.5945 - Accuracy is 0.6340\n",
      "Epoch 13, CIFAR-10 Batch 2:  Loss is 0.4818 - Accuracy is 0.6414\n",
      "Epoch 13, CIFAR-10 Batch 3:  Loss is 0.4147 - Accuracy is 0.6462\n",
      "Epoch 13, CIFAR-10 Batch 4:  Loss is 0.4773 - Accuracy is 0.6428\n",
      "Epoch 13, CIFAR-10 Batch 5:  Loss is 0.4598 - Accuracy is 0.6448\n",
      "Epoch 14, CIFAR-10 Batch 1:  Loss is 0.5689 - Accuracy is 0.6362\n",
      "Epoch 14, CIFAR-10 Batch 2:  Loss is 0.4539 - Accuracy is 0.6478\n",
      "Epoch 14, CIFAR-10 Batch 3:  Loss is 0.3804 - Accuracy is 0.6446\n",
      "Epoch 14, CIFAR-10 Batch 4:  Loss is 0.4148 - Accuracy is 0.6490\n",
      "Epoch 14, CIFAR-10 Batch 5:  Loss is 0.4117 - Accuracy is 0.6534\n",
      "Epoch 15, CIFAR-10 Batch 1:  Loss is 0.5205 - Accuracy is 0.6470\n",
      "Epoch 15, CIFAR-10 Batch 2:  Loss is 0.4143 - Accuracy is 0.6556\n",
      "Epoch 15, CIFAR-10 Batch 3:  Loss is 0.3387 - Accuracy is 0.6460\n",
      "Epoch 15, CIFAR-10 Batch 4:  Loss is 0.3818 - Accuracy is 0.6480\n",
      "Epoch 15, CIFAR-10 Batch 5:  Loss is 0.3924 - Accuracy is 0.6542\n",
      "Epoch 16, CIFAR-10 Batch 1:  Loss is 0.4827 - Accuracy is 0.6424\n",
      "Epoch 16, CIFAR-10 Batch 2:  Loss is 0.4071 - Accuracy is 0.6442\n",
      "Epoch 16, CIFAR-10 Batch 3:  Loss is 0.3222 - Accuracy is 0.6476\n",
      "Epoch 16, CIFAR-10 Batch 4:  Loss is 0.3579 - Accuracy is 0.6444\n",
      "Epoch 16, CIFAR-10 Batch 5:  Loss is 0.3306 - Accuracy is 0.6560\n",
      "Epoch 17, CIFAR-10 Batch 1:  Loss is 0.4493 - Accuracy is 0.6568\n",
      "Epoch 17, CIFAR-10 Batch 2:  Loss is 0.3369 - Accuracy is 0.6574\n",
      "Epoch 17, CIFAR-10 Batch 3:  Loss is 0.2916 - Accuracy is 0.6534\n",
      "Epoch 17, CIFAR-10 Batch 4:  Loss is 0.3593 - Accuracy is 0.6476\n",
      "Epoch 17, CIFAR-10 Batch 5:  Loss is 0.3049 - Accuracy is 0.6578\n",
      "Epoch 18, CIFAR-10 Batch 1:  Loss is 0.4251 - Accuracy is 0.6554\n",
      "Epoch 18, CIFAR-10 Batch 2:  Loss is 0.3345 - Accuracy is 0.6644\n",
      "Epoch 18, CIFAR-10 Batch 3:  Loss is 0.2768 - Accuracy is 0.6496\n",
      "Epoch 18, CIFAR-10 Batch 4:  Loss is 0.3240 - Accuracy is 0.6544\n",
      "Epoch 18, CIFAR-10 Batch 5:  Loss is 0.2859 - Accuracy is 0.6560\n",
      "Epoch 19, CIFAR-10 Batch 1:  Loss is 0.3623 - Accuracy is 0.6672\n",
      "Epoch 19, CIFAR-10 Batch 2:  Loss is 0.3274 - Accuracy is 0.6664\n",
      "Epoch 19, CIFAR-10 Batch 3:  Loss is 0.2319 - Accuracy is 0.6608\n",
      "Epoch 19, CIFAR-10 Batch 4:  Loss is 0.2802 - Accuracy is 0.6560\n",
      "Epoch 19, CIFAR-10 Batch 5:  Loss is 0.2568 - Accuracy is 0.6690\n",
      "Epoch 20, CIFAR-10 Batch 1:  Loss is 0.3426 - Accuracy is 0.6608\n",
      "Epoch 20, CIFAR-10 Batch 2:  Loss is 0.2740 - Accuracy is 0.6680\n",
      "Epoch 20, CIFAR-10 Batch 3:  Loss is 0.2211 - Accuracy is 0.6570\n",
      "Epoch 20, CIFAR-10 Batch 4:  Loss is 0.2701 - Accuracy is 0.6556\n",
      "Epoch 20, CIFAR-10 Batch 5:  Loss is 0.2193 - Accuracy is 0.6640\n",
      "Epoch 21, CIFAR-10 Batch 1:  Loss is 0.3095 - Accuracy is 0.6714\n",
      "Epoch 21, CIFAR-10 Batch 2:  Loss is 0.2583 - Accuracy is 0.6690\n",
      "Epoch 21, CIFAR-10 Batch 3:  Loss is 0.2173 - Accuracy is 0.6678\n",
      "Epoch 21, CIFAR-10 Batch 4:  Loss is 0.2376 - Accuracy is 0.6646\n",
      "Epoch 21, CIFAR-10 Batch 5:  Loss is 0.2077 - Accuracy is 0.6668\n",
      "Epoch 22, CIFAR-10 Batch 1:  Loss is 0.2614 - Accuracy is 0.6658\n",
      "Epoch 22, CIFAR-10 Batch 2:  Loss is 0.2415 - Accuracy is 0.6652\n",
      "Epoch 22, CIFAR-10 Batch 3:  Loss is 0.2030 - Accuracy is 0.6588\n",
      "Epoch 22, CIFAR-10 Batch 4:  Loss is 0.1956 - Accuracy is 0.6646\n",
      "Epoch 22, CIFAR-10 Batch 5:  Loss is 0.1905 - Accuracy is 0.6662\n",
      "Epoch 23, CIFAR-10 Batch 1:  Loss is 0.2527 - Accuracy is 0.6706\n",
      "Epoch 23, CIFAR-10 Batch 2:  Loss is 0.2520 - Accuracy is 0.6674\n",
      "Epoch 23, CIFAR-10 Batch 3:  Loss is 0.1931 - Accuracy is 0.6672\n",
      "Epoch 23, CIFAR-10 Batch 4:  Loss is 0.2016 - Accuracy is 0.6666\n",
      "Epoch 23, CIFAR-10 Batch 5:  Loss is 0.1620 - Accuracy is 0.6706\n",
      "Epoch 24, CIFAR-10 Batch 1:  Loss is 0.2466 - Accuracy is 0.6668\n",
      "Epoch 24, CIFAR-10 Batch 2:  Loss is 0.2072 - Accuracy is 0.6656\n",
      "Epoch 24, CIFAR-10 Batch 3:  Loss is 0.1693 - Accuracy is 0.6658\n",
      "Epoch 24, CIFAR-10 Batch 4:  Loss is 0.1821 - Accuracy is 0.6668\n",
      "Epoch 24, CIFAR-10 Batch 5:  Loss is 0.1677 - Accuracy is 0.6782\n",
      "Epoch 25, CIFAR-10 Batch 1:  Loss is 0.2091 - Accuracy is 0.6658\n",
      "Epoch 25, CIFAR-10 Batch 2:  Loss is 0.2061 - Accuracy is 0.6722\n",
      "Epoch 25, CIFAR-10 Batch 3:  Loss is 0.1607 - Accuracy is 0.6646\n",
      "Epoch 25, CIFAR-10 Batch 4:  Loss is 0.1571 - Accuracy is 0.6730\n",
      "Epoch 25, CIFAR-10 Batch 5:  Loss is 0.1355 - Accuracy is 0.6704\n",
      "Epoch 26, CIFAR-10 Batch 1:  Loss is 0.2183 - Accuracy is 0.6722\n",
      "Epoch 26, CIFAR-10 Batch 2:  Loss is 0.1710 - Accuracy is 0.6682\n",
      "Epoch 26, CIFAR-10 Batch 3:  Loss is 0.1471 - Accuracy is 0.6544\n",
      "Epoch 26, CIFAR-10 Batch 4:  Loss is 0.1558 - Accuracy is 0.6748\n",
      "Epoch 26, CIFAR-10 Batch 5:  Loss is 0.1346 - Accuracy is 0.6756\n",
      "Epoch 27, CIFAR-10 Batch 1:  Loss is 0.2152 - Accuracy is 0.6728\n",
      "Epoch 27, CIFAR-10 Batch 2:  Loss is 0.1633 - Accuracy is 0.6608\n",
      "Epoch 27, CIFAR-10 Batch 3:  Loss is 0.1246 - Accuracy is 0.6684\n",
      "Epoch 27, CIFAR-10 Batch 4:  Loss is 0.1336 - Accuracy is 0.6738\n",
      "Epoch 27, CIFAR-10 Batch 5:  Loss is 0.1284 - Accuracy is 0.6642\n",
      "Epoch 28, CIFAR-10 Batch 1:  Loss is 0.1852 - Accuracy is 0.6702\n",
      "Epoch 28, CIFAR-10 Batch 2:  Loss is 0.1518 - Accuracy is 0.6550\n",
      "Epoch 28, CIFAR-10 Batch 3:  Loss is 0.1309 - Accuracy is 0.6542\n",
      "Epoch 28, CIFAR-10 Batch 4:  Loss is 0.1408 - Accuracy is 0.6732\n",
      "Epoch 28, CIFAR-10 Batch 5:  Loss is 0.1143 - Accuracy is 0.6686\n",
      "Epoch 29, CIFAR-10 Batch 1:  Loss is 0.1591 - Accuracy is 0.6744\n",
      "Epoch 29, CIFAR-10 Batch 2:  Loss is 0.1385 - Accuracy is 0.6620\n",
      "Epoch 29, CIFAR-10 Batch 3:  Loss is 0.1328 - Accuracy is 0.6552\n",
      "Epoch 29, CIFAR-10 Batch 4:  Loss is 0.1316 - Accuracy is 0.6738\n",
      "Epoch 29, CIFAR-10 Batch 5:  Loss is 0.1077 - Accuracy is 0.6690\n",
      "Epoch 30, CIFAR-10 Batch 1:  Loss is 0.1724 - Accuracy is 0.6704\n",
      "Epoch 30, CIFAR-10 Batch 2:  Loss is 0.1455 - Accuracy is 0.6552\n",
      "Epoch 30, CIFAR-10 Batch 3:  Loss is 0.1127 - Accuracy is 0.6600\n",
      "Epoch 30, CIFAR-10 Batch 4:  Loss is 0.1233 - Accuracy is 0.6744\n",
      "Epoch 30, CIFAR-10 Batch 5:  Loss is 0.1092 - Accuracy is 0.6670\n"
     ]
    }
   ],
   "source": [
    "\"\"\"\n",
    "DON'T MODIFY ANYTHING IN THIS CELL\n",
    "\"\"\"\n",
    "save_model_path = './image_classification'\n",
    "\n",
    "print('Training...')\n",
    "with tf.Session() as sess:\n",
    "    # Initializing the variables\n",
    "    sess.run(tf.global_variables_initializer())\n",
    "    \n",
    "    # Training cycle\n",
    "    for epoch in range(epochs):\n",
    "        # Loop over all batches\n",
    "        n_batches = 5\n",
    "        for batch_i in range(1, n_batches + 1):\n",
    "            for batch_features, batch_labels in helper.load_preprocess_training_batch(batch_i, batch_size):\n",
    "                train_neural_network(sess, optimizer, keep_probability, batch_features, batch_labels)\n",
    "            print('Epoch {:>2}, CIFAR-10 Batch {}:  '.format(epoch + 1, batch_i), end='')\n",
    "            print_stats(sess, batch_features, batch_labels, cost, accuracy)\n",
    "            \n",
    "    # Save Model\n",
    "    saver = tf.train.Saver()\n",
    "    save_path = saver.save(sess, save_model_path)"
   ]
  },
  {
   "cell_type": "markdown",
   "metadata": {
    "deletable": true,
    "editable": true
   },
   "source": [
    "# Checkpoint\n",
    "The model has been saved to disk.\n",
    "## Test Model\n",
    "Test your model against the test dataset.  This will be your final accuracy. You should have an accuracy greater than 50%. If you don't, keep tweaking the model architecture and parameters."
   ]
  },
  {
   "cell_type": "code",
   "execution_count": 133,
   "metadata": {
    "collapsed": false,
    "deletable": true,
    "editable": true
   },
   "outputs": [
    {
     "name": "stdout",
     "output_type": "stream",
     "text": [
      "Testing Accuracy: 0.66455078125\n",
      "\n"
     ]
    },
    {
     "data": {
      "image/png": "[encoded data removed]",
      "text/plain": [
       "<matplotlib.figure.Figure at 0x7fca52aa6240>"
      ]
     },
     "metadata": {
      "image/png": {
       "height": 319,
       "width": 355
      }
     },
     "output_type": "display_data"
    }
   ],
   "source": [
    "\"\"\"\n",
    "DON'T MODIFY ANYTHING IN THIS CELL\n",
    "\"\"\"\n",
    "%matplotlib inline\n",
    "%config InlineBackend.figure_format = 'retina'\n",
    "\n",
    "import tensorflow as tf\n",
    "import pickle\n",
    "import helper\n",
    "import random\n",
    "\n",
    "# Set batch size if not already set\n",
    "try:\n",
    "    if batch_size:\n",
    "        pass\n",
    "except NameError:\n",
    "    batch_size = 64\n",
    "\n",
    "save_model_path = './image_classification'\n",
    "n_samples = 4\n",
    "top_n_predictions = 3\n",
    "\n",
    "def test_model():\n",
    "    \"\"\"\n",
    "    Test the saved model against the test dataset\n",
    "    \"\"\"\n",
    "\n",
    "    test_features, test_labels = pickle.load(open('preprocess_test.p', mode='rb'))\n",
    "    loaded_graph = tf.Graph()\n",
    "\n",
    "    with tf.Session(graph=loaded_graph) as sess:\n",
    "        # Load model\n",
    "        loader = tf.train.import_meta_graph(save_model_path + '.meta')\n",
    "        loader.restore(sess, save_model_path)\n",
    "\n",
    "        # Get Tensors from loaded model\n",
    "        loaded_x = loaded_graph.get_tensor_by_name('x:0')\n",
    "        loaded_y = loaded_graph.get_tensor_by_name('y:0')\n",
    "        loaded_keep_prob = loaded_graph.get_tensor_by_name('keep_prob:0')\n",
    "        loaded_logits = loaded_graph.get_tensor_by_name('logits:0')\n",
    "        loaded_acc = loaded_graph.get_tensor_by_name('accuracy:0')\n",
    "        \n",
    "        # Get accuracy in batches for memory limitations\n",
    "        test_batch_acc_total = 0\n",
    "        test_batch_count = 0\n",
    "        \n",
    "        for test_feature_batch, test_label_batch in helper.batch_features_labels(test_features, test_labels, batch_size):\n",
    "            test_batch_acc_total += sess.run(\n",
    "                loaded_acc,\n",
    "                feed_dict={loaded_x: test_feature_batch, loaded_y: test_label_batch, loaded_keep_prob: 1.0})\n",
    "            test_batch_count += 1\n",
    "\n",
    "        print('Testing Accuracy: {}\\n'.format(test_batch_acc_total/test_batch_count))\n",
    "\n",
    "        # Print Random Samples\n",
    "        random_test_features, random_test_labels = tuple(zip(*random.sample(list(zip(test_features, test_labels)), n_samples)))\n",
    "        random_test_predictions = sess.run(\n",
    "            tf.nn.top_k(tf.nn.softmax(loaded_logits), top_n_predictions),\n",
    "            feed_dict={loaded_x: random_test_features, loaded_y: random_test_labels, loaded_keep_prob: 1.0})\n",
    "        helper.display_image_predictions(random_test_features, random_test_labels, random_test_predictions)\n",
    "\n",
    "\n",
    "test_model()"
   ]
  },
  {
   "cell_type": "markdown",
   "metadata": {
    "deletable": true,
    "editable": true
   },
   "source": [
    "## Why 50-80% Accuracy?\n",
    "You might be wondering why you can't get an accuracy any higher. First things first, 50% isn't bad for a simple CNN.  Pure guessing would get you 10% accuracy. However, you might notice people are getting scores [well above 80%](http://rodrigob.github.io/are_we_there_yet/build/classification_datasets_results.html#43494641522d3130).  That's because we haven't taught you all there is to know about neural networks. We still need to cover a few more techniques.\n",
    "## Submitting This Project\n",
    "When submitting this project, make sure to run all the cells before saving the notebook.  Save the notebook file as \"dlnd_image_classification.ipynb\" and save it as a HTML file under \"File\" -> \"Download as\".  Include the \"helper.py\" and \"problem_unittests.py\" files in your submission."
   ]
  }
 ],
 "metadata": {
  "kernelspec": {
   "display_name": "Python 3",
   "language": "python",
   "name": "python3"
  },
  "language_info": {
   "codemirror_mode": {
    "name": "ipython",
    "version": 3
   },
   "file_extension": ".py",
   "mimetype": "text/x-python",
   "name": "python",
   "nbconvert_exporter": "python",
   "pygments_lexer": "ipython3",
   "version": "3.6.0"
  }
 },
 "nbformat": 4,
 "nbformat_minor": 0
}
